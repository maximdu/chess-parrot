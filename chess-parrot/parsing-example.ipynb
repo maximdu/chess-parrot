{
 "cells": [
  {
   "cell_type": "code",
   "execution_count": null,
   "id": "2a02a9d7-57a4-4463-81cc-49dc8619ef55",
   "metadata": {},
   "outputs": [],
   "source": [
    "import subprocess\n",
    "\n",
    "from dataset_creation.parser import FilePGN\n",
    "from dataset_creation.engine import Stockfish\n",
    "from dataset_creation.move import find_compatible, to_long_algebraic\n",
    "\n",
    "import plotly.express as px\n",
    "from time import perf_counter"
   ]
  },
  {
   "cell_type": "code",
   "execution_count": null,
   "id": "73520112-dcc2-4330-89ce-7c2686ed7aa2",
   "metadata": {},
   "outputs": [],
   "source": []
  },
  {
   "cell_type": "code",
   "execution_count": null,
   "id": "b2b1257f-e8cb-42bd-bc9f-1817b3c171ec",
   "metadata": {},
   "outputs": [],
   "source": [
    "pgn_2015_01 = \"pgn/lichess_db_standard_rated_2014-01.pgn\"\n",
    "file = FilePGN(pgn_2015_01)"
   ]
  },
  {
   "cell_type": "code",
   "execution_count": null,
   "id": "0c8f89d4-0111-4a0d-8718-5876d99babd5",
   "metadata": {},
   "outputs": [],
   "source": [
    "moves, info = file.get_and_parse_next_game()"
   ]
  },
  {
   "cell_type": "code",
   "execution_count": null,
   "id": "50efc445-0740-4b5c-bf41-4d331bbc3be8",
   "metadata": {},
   "outputs": [],
   "source": []
  },
  {
   "cell_type": "code",
   "execution_count": null,
   "id": "1cb375c3-115f-469a-9b09-b98f6c3a4630",
   "metadata": {},
   "outputs": [],
   "source": [
    "stockfish_path = \"stockfish/stockfish.exe\"\n",
    "stockfish = Stockfish(stockfish_path)"
   ]
  },
  {
   "cell_type": "code",
   "execution_count": null,
   "id": "87dd5e4f-cd7e-400f-ba3d-588ad49d104e",
   "metadata": {},
   "outputs": [],
   "source": [
    "stockfish.start_new_game()"
   ]
  },
  {
   "cell_type": "code",
   "execution_count": null,
   "id": "cc1747e6-3361-4293-a3ed-90240d42d632",
   "metadata": {},
   "outputs": [],
   "source": [
    "stockfish.get_legal_moves()"
   ]
  },
  {
   "cell_type": "code",
   "execution_count": null,
   "id": "58f1f474-632d-479e-9881-cc2e69b9571b",
   "metadata": {},
   "outputs": [],
   "source": [
    "# test parsing performance\n",
    "start_time = perf_counter()\n",
    "\n",
    "for _ in range(1000):\n",
    "\n",
    "    game_moves, info = file.get_and_parse_next_game()\n",
    "    \n",
    "    stockfish.start_new_game()\n",
    "    fens = []\n",
    "    \n",
    "    for game_move in game_moves:\n",
    "        \n",
    "        fens.append(stockfish.fen)\n",
    "        \n",
    "        legal_moves = stockfish.get_legal_moves()\n",
    "        \n",
    "        made_move = find_compatible(legal_moves, game_move)\n",
    "        \n",
    "        stockfish.make_move(to_long_algebraic(made_move))\n",
    "\n",
    "end_time = perf_counter()\n",
    "time = end_time - start_time\n",
    "print(f\"{time:.1f}s\")"
   ]
  },
  {
   "cell_type": "code",
   "execution_count": null,
   "id": "4ff725b7-d074-4ca2-be04-3169034b72ad",
   "metadata": {},
   "outputs": [],
   "source": []
  },
  {
   "cell_type": "code",
   "execution_count": null,
   "id": "081b4b04-d906-4e52-ab1f-472daf339ca7",
   "metadata": {},
   "outputs": [],
   "source": []
  },
  {
   "cell_type": "code",
   "execution_count": null,
   "id": "d291e6f1-42a9-4d63-a9de-238ff67ee25a",
   "metadata": {},
   "outputs": [],
   "source": []
  },
  {
   "cell_type": "code",
   "execution_count": null,
   "id": "c1e5ee78-2c44-47bc-8fb4-d28519c9b68b",
   "metadata": {},
   "outputs": [],
   "source": []
  },
  {
   "cell_type": "code",
   "execution_count": null,
   "id": "c4e0836c-671e-4c26-8bef-df6c6fd6b0c5",
   "metadata": {},
   "outputs": [],
   "source": []
  }
 ],
 "metadata": {
  "kernelspec": {
   "display_name": "Python 3 (ipykernel)",
   "language": "python",
   "name": "python3"
  },
  "language_info": {
   "codemirror_mode": {
    "name": "ipython",
    "version": 3
   },
   "file_extension": ".py",
   "mimetype": "text/x-python",
   "name": "python",
   "nbconvert_exporter": "python",
   "pygments_lexer": "ipython3",
   "version": "3.12.7"
  }
 },
 "nbformat": 4,
 "nbformat_minor": 5
}
